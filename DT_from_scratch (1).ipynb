{
 "cells": [
  {
   "cell_type": "markdown",
   "id": "73cd47ce-01e9-470f-b618-f723695a9e76",
   "metadata": {},
   "source": [
    "## Practice Lab 2: Decision tree from scratch (well, we hope!)"
   ]
  },
  {
   "cell_type": "markdown",
   "id": "776c42dc-7a82-466b-99ba-e7797f69cab2",
   "metadata": {},
   "source": [
    "### Part 1\n",
    "- create random list of 5 integers\n",
    " - create a function that will find the split values by\n",
    "     - sorting the list from lowest to highest value\n",
    "     - finding the midpoint for each consecutive pair of values\n",
    "     - returning midpoints as a list\n",
    " - create new random list of 5 integers and test your split values function "
   ]
  },
  {
   "cell_type": "markdown",
   "id": "cd9b9dd9-3a96-4b3b-8ed3-218e7eb0c782",
   "metadata": {},
   "source": [
    "> wherever you see `list` you can always substitute with `ndarray` if more appropriate"
   ]
  },
  {
   "cell_type": "code",
   "execution_count": null,
   "id": "f4e779eb-20d5-47c9-af8f-ca031a74ec26",
   "metadata": {},
   "outputs": [],
   "source": []
  },
  {
   "cell_type": "markdown",
   "id": "5c0354e0-02a3-4ba4-8e7f-4a54bd68f852",
   "metadata": {},
   "source": [
    "### Part 2\n",
    " - create random array of integers in shape (5, 3)\n",
    " - create a function that iterates over the columns and calculates the split points for each column\n",
    " - return as a dictionary with column name as key and list of split points as value\n",
    " - verify by hand that you are getting the correct split points"
   ]
  },
  {
   "cell_type": "code",
   "execution_count": null,
   "id": "f5fd98f2-7a61-41ba-a673-3107c07bcb17",
   "metadata": {},
   "outputs": [],
   "source": []
  },
  {
   "cell_type": "markdown",
   "id": "24b3bcd7-a4ad-4623-8c7e-574c202272a9",
   "metadata": {
    "tags": []
   },
   "source": [
    "### Part 3\n",
    " - create random array of integers in shape (5, 2)\n",
    " - use the first column as feature data X and the second column as regression target y\n",
    " - create a function that takes in this array and\n",
    "     - calculates the MSE of the root node\n",
    "     - calculates the split points\n",
    "     - for each split point\n",
    "         - split the data into two parts\n",
    "         - calculates the weighted MAE after the split\n",
    "     - returns the split point (and the new MAE) that reduces the MAE of the root node the most\n",
    "     \n",
    "> Note: this function could use other funtions that perform the individual steps"
   ]
  },
  {
   "cell_type": "code",
   "execution_count": null,
   "id": "877b9401-3544-4222-a0f9-9170dec03c01",
   "metadata": {},
   "outputs": [],
   "source": []
  },
  {
   "cell_type": "markdown",
   "id": "cf21274f-99ac-4eeb-a47e-0c3db31d3d61",
   "metadata": {
    "tags": []
   },
   "source": [
    "### Part 4 (Optional)\n",
    " - Modify **Part 3** code so that it can handle more than 1 feature"
   ]
  },
  {
   "cell_type": "code",
   "execution_count": null,
   "id": "dad57a39-52c3-4aaf-b2d8-3df0e397df93",
   "metadata": {},
   "outputs": [],
   "source": []
  }
 ],
 "metadata": {
  "kernelspec": {
   "display_name": "Python 3 (ipykernel)",
   "language": "python",
   "name": "python3"
  },
  "language_info": {
   "codemirror_mode": {
    "name": "ipython",
    "version": 3
   },
   "file_extension": ".py",
   "mimetype": "text/x-python",
   "name": "python",
   "nbconvert_exporter": "python",
   "pygments_lexer": "ipython3",
   "version": "3.9.13"
  }
 },
 "nbformat": 4,
 "nbformat_minor": 5
}
