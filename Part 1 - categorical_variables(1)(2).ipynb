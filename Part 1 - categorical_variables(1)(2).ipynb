{
 "cells": [
  {
   "cell_type": "markdown",
   "metadata": {},
   "source": [
    "# Denoising and Feature Importance"
   ]
  },
  {
   "cell_type": "markdown",
   "metadata": {
    "id": "3HsaH_N8N7vG"
   },
   "source": [
    "## Recap\n",
    "\n",
    "Recall that to train a model we need:\n",
    "\n",
    " - all the data to be numeric;\n",
    " - no missing data/values.\n",
    " \n",
    "And what we have done so far is:\n",
    " - ignored non-numeric data;\n",
    " - built and evaluated a random forest model, which had:\n",
    "     - a poor avg $R^2$ and *mean absolute error* on the validation data;\n",
    "     - high variance in $R^2$ and *mean absolute error* on the validation data;\n",
    " - explored our data for anomalies in the context of our objective to predict apartment rental prices for a typical apartment in New York City;\n",
    " - cleaned our data to remove the anomalies we discovered;\n",
    " - built and evaluated a random forest model using the cleaned data."
   ]
  },
  {
   "cell_type": "markdown",
   "metadata": {},
   "source": [
    "### Reestablish Baseline"
   ]
  },
  {
   "cell_type": "code",
   "execution_count": 1,
   "metadata": {
    "id": "6P6fbYCnN7vH"
   },
   "outputs": [],
   "source": [
    "from sklearn.model_selection import train_test_split\n",
    "from sklearn.ensemble import RandomForestRegressor\n",
    "from sklearn.metrics import mean_absolute_error, r2_score\n",
    "import numpy as np\n",
    "import pandas as pd"
   ]
  },
  {
   "cell_type": "code",
   "execution_count": 2,
   "metadata": {
    "colab": {
     "base_uri": "https://localhost:8080/",
     "height": 142
    },
    "id": "dJ83sz4UN7vR",
    "outputId": "f604b55c-b267-42a2-b595-b460360679e0"
   },
   "outputs": [],
   "source": [
    "rent = pd.read_csv('rent.csv')\n",
    "\n",
    "rent_clean = rent[(rent['price'] > 1000) & (rent['price'] < 10000)]\n",
    "rent_clean = rent_clean[(rent_clean['longitude'] !=0) | (rent_clean['latitude']!=0)]\n",
    "rent_clean = rent_clean[(rent_clean['latitude']>40.55) &\n",
    "                        (rent_clean['latitude']<40.94) &\n",
    "                        (rent_clean['longitude']>-74.1) &\n",
    "                        (rent_clean['longitude']<-73.67)]"
   ]
  },
  {
   "cell_type": "code",
   "execution_count": 3,
   "metadata": {},
   "outputs": [
    {
     "name": "stdout",
     "output_type": "stream",
     "text": [
      "Out-of-bag R^2 for baseline model is: 0.8671513762834249\n"
     ]
    }
   ],
   "source": [
    "numfeatures = ['bathrooms', 'bedrooms', 'longitude', 'latitude']\n",
    "\n",
    "X = rent_clean[numfeatures]\n",
    "y = rent_clean['price']\n",
    "\n",
    "rf = RandomForestRegressor(n_estimators=100, n_jobs=-1, oob_score=True)\n",
    "rf.fit(X, y)\n",
    "\n",
    "oob_baseline = rf.oob_score_\n",
    "print(f\"Out-of-bag R^2 for baseline model is: {oob_baseline}\")"
   ]
  },
  {
   "cell_type": "markdown",
   "metadata": {},
   "source": [
    "### $R^2$ Reminder\n",
    "\n",
    "Recall the formula:\n",
    "\n",
    "$$\n",
    "R^2 = 1 - \\frac{\\sum_{i=1}^{n}(y_i - \\hat{y}_i)^2}{\\sum_{i=1}^{n}(y_i - \\bar{y})^2}\n",
    "$$\n",
    "\n",
    "This tells us that:\n",
    "- $R^2 = 1$ means our model is perfect; \n",
    "- $R^2 \\approx 0$ means our model does no better than just predicting the average;\n",
    "- $R^2 \\lt\\lt 0$ means our model does worse than predicting the average.\n",
    "\n",
    "Also, as $R^2 \\rightarrow 1$ it gets harder and harder to improve model performance."
   ]
  },
  {
   "cell_type": "markdown",
   "metadata": {},
   "source": [
    "### Other Indicators\n",
    "\n",
    "We are not only interested in $R^2$. We would also like to know: \n",
    "- how much work the random forest model has to do to capture the relationship between the features and the target; \n",
    "- the typical tree depth, as this will impact the speed of predictions for new data;\n",
    "- how important different features are for a given model.\n",
    "\n",
    "To help with this we will use the `rfpimp` package. (Note: you will see some *FutureWarning* messages when using this package but these can be ignored as they are just warnings that some parts of the *sklearn* code are changing in the future.)"
   ]
  },
  {
   "cell_type": "code",
   "execution_count": 4,
   "metadata": {},
   "outputs": [],
   "source": [
    "from rfpimp import *"
   ]
  },
  {
   "cell_type": "markdown",
   "metadata": {},
   "source": [
    "Since we will be evaluating many models this way, we will use some functions to help keep our code clean:\n",
    "- one to evaluate our model and report the OOB score, the number of nodes across all trees in the forest, and the median tree depth in the forest; and, \n",
    "- one to show the feature importances for a given model."
   ]
  },
  {
   "cell_type": "code",
   "execution_count": 9,
   "metadata": {},
   "outputs": [],
   "source": [
    "def evaluate(X, y):\n",
    "    rf = RandomForestRegressor(n_estimators=100, n_jobs=-1, oob_score=True)\n",
    "    rf.fit(X, y)\n",
    "    oob = rf.oob_score_\n",
    "    n = rfnnodes(rf)\n",
    "    h = np.median(rfmaxdepths(rf))\n",
    "    print(f\"OOB R^2 is {oob:.5f} using {n:,d} tree nodes with {h} median tree depth\")\n",
    "    return rf, oob"
   ]
  },
  {
   "cell_type": "code",
   "execution_count": 10,
   "metadata": {},
   "outputs": [],
   "source": [
    "def showimp(rf, X, y):\n",
    "    features = list(X.columns)\n",
    "    features.remove('latitude')\n",
    "    features.remove('longitude')\n",
    "    features += [['latitude','longitude']]\n",
    "\n",
    "    I = importances(rf, X, y, features=features)\n",
    "    plot_importances(I, color='#4575b4')"
   ]
  },
  {
   "cell_type": "markdown",
   "metadata": {},
   "source": [
    "Let's try both of these out on our baseline model that uses only the cleaned numeric data."
   ]
  },
  {
   "cell_type": "code",
   "execution_count": 11,
   "metadata": {},
   "outputs": [
    {
     "name": "stdout",
     "output_type": "stream",
     "text": [
      "OOB R^2 is 0.86758 using 2,433,030 tree nodes with 35.0 median tree depth\n"
     ]
    },
    {
     "data": {
      "text/plain": [
       "(RandomForestRegressor(n_jobs=-1, oob_score=True), 0.8675766980371664)"
      ]
     },
     "execution_count": 11,
     "metadata": {},
     "output_type": "execute_result"
    }
   ],
   "source": [
    "evaluate(X, y)"
   ]
  },
  {
   "cell_type": "code",
   "execution_count": 12,
   "metadata": {},
   "outputs": [
    {
     "data": {
      "image/png": "[encoded data removed]",
      "text/plain": [
       "<Figure size 400x150 with 1 Axes>"
      ]
     },
     "metadata": {},
     "output_type": "display_data"
    }
   ],
   "source": [
    "showimp(rf, X, y)"
   ]
  },
  {
   "cell_type": "markdown",
   "metadata": {},
   "source": [
    "### Feature Importance\n",
    "\n",
    "Many times, a model's ability to generalize (predict) well is not all we are hoping for; we would also like to understand what the model is doing, which is referred to as a model's interpretability. Random Forests have this as a built in feature, however the implementation in *sklearn* suffers from bias when:\n",
    "- the scales of the features vary; and/or, \n",
    "- there are many categories for a feature.\n",
    "\n",
    "A better way to assess feature importance, in any model, is to use:\n",
    "- permutation importance; or \n",
    "- dropped feature importance.\n",
    "\n",
    "##### Permutation Importance\n",
    "\n",
    "We can calculate the feature importances using a permutation method, which consists of the following steps:\n",
    "- use all features and establish a baseline value for $R^2$;\n",
    "- select one feature and randomly permute its values leaving all other features unchanged;\n",
    "- calculate the new value for $R^2$ with this one feature permuted;\n",
    "- calculate the change in $R^2$ from the baseline; and, \n",
    "- repeat for the other features.\n",
    "\n",
    "Let's see how this works."
   ]
  },
  {
   "cell_type": "code",
   "execution_count": 13,
   "metadata": {},
   "outputs": [],
   "source": [
    "def perm_importances(X, y):\n",
    "    rf = RandomForestRegressor(n_estimators=100, n_jobs=-1, oob_score=True, random_state=999)\n",
    "    rf.fit(X, y)\n",
    "    r2 = rf.oob_score_\n",
    "    print(f\"Baseline R^2 with no columns permuted: {r2:.5f}\\n\")\n",
    "    for col in X.columns:\n",
    "        X_col = X.copy()\n",
    "        X_col[col] = X_col[col].sample(frac=1).values\n",
    "        rf.fit(X_col, y)\n",
    "        r2_col = rf.oob_score_\n",
    "        print(f\"Permuting column {col}: new R^2 is {r2_col:.5f} and difference from baseline is {r2 - r2_col:.5f}\")\n"
   ]
  },
  {
   "cell_type": "code",
   "execution_count": 14,
   "metadata": {},
   "outputs": [
    {
     "name": "stdout",
     "output_type": "stream",
     "text": [
      "Baseline R^2 with no columns permuted: 0.86763\n",
      "\n",
      "Permuting column bathrooms: new R^2 is 0.81347 and difference from baseline is 0.05416\n",
      "Permuting column bedrooms: new R^2 is 0.75410 and difference from baseline is 0.11353\n",
      "Permuting column longitude: new R^2 is 0.68090 and difference from baseline is 0.18673\n",
      "Permuting column latitude: new R^2 is 0.68604 and difference from baseline is 0.18158\n"
     ]
    }
   ],
   "source": [
    "perm_importances(X, y)"
   ]
  },
  {
   "cell_type": "markdown",
   "metadata": {},
   "source": [
    "##### Dropped Column Importance\n",
    "\n",
    "We can also calculate the importance of the features using a dropped column, which consists of the following steps:\n",
    "- use all features and establish a baseline value for $R^2$;\n",
    "- select one feature and remove it from the data;\n",
    "- calculate the new value for $R^2$ with this one feature removed;\n",
    "- calculate the change in $R^2$ from the baseline; and, \n",
    "- repeat for the other features.\n",
    "\n",
    "Let's see how this works."
   ]
  },
  {
   "cell_type": "code",
   "execution_count": 15,
   "metadata": {},
   "outputs": [],
   "source": [
    "def drop_importances(X, y):\n",
    "    rf = RandomForestRegressor(n_estimators=100, n_jobs=-1, oob_score=True, random_state=999)\n",
    "    rf.fit(X, y)\n",
    "    r2 = rf.oob_score_\n",
    "    print(f\"Baseline R^2 with no columns dropped: {r2:.5f}\\n\")\n",
    "    for col in X.columns:\n",
    "        X_col = X.copy()\n",
    "        X_col = X_col.drop(col, axis=1) \n",
    "        rf.fit(X_col, y)\n",
    "        r2_col = rf.oob_score_\n",
    "        print(f\"Dropping column {col}: new R^2 is {r2_col:.5f} and difference from baseline is {r2 - r2_col:.5f}\")"
   ]
  },
  {
   "cell_type": "code",
   "execution_count": 16,
   "metadata": {},
   "outputs": [
    {
     "name": "stdout",
     "output_type": "stream",
     "text": [
      "Baseline R^2 with no columns dropped: 0.86763\n",
      "\n",
      "Dropping column bathrooms: new R^2 is 0.81941 and difference from baseline is 0.04821\n",
      "Dropping column bedrooms: new R^2 is 0.77719 and difference from baseline is 0.09044\n",
      "Dropping column longitude: new R^2 is 0.73451 and difference from baseline is 0.13311\n",
      "Dropping column latitude: new R^2 is 0.74144 and difference from baseline is 0.12619\n"
     ]
    }
   ],
   "source": [
    "drop_importances(X, y)"
   ]
  },
  {
   "cell_type": "markdown",
   "metadata": {},
   "source": [
    "##### Be Careful With Correlation"
   ]
  },
  {
   "cell_type": "code",
   "execution_count": 17,
   "metadata": {},
   "outputs": [
    {
     "data": {
      "text/html": [
       "<div>\n",
       "<style scoped>\n",
       "    .dataframe tbody tr th:only-of-type {\n",
       "        vertical-align: middle;\n",
       "    }\n",
       "\n",
       "    .dataframe tbody tr th {\n",
       "        vertical-align: top;\n",
       "    }\n",
       "\n",
       "    .dataframe thead th {\n",
       "        text-align: right;\n",
       "    }\n",
       "</style>\n",
       "<table border=\"1\" class=\"dataframe\">\n",
       "  <thead>\n",
       "    <tr style=\"text-align: right;\">\n",
       "      <th></th>\n",
       "      <th>bathrooms</th>\n",
       "      <th>bedrooms</th>\n",
       "      <th>longitude</th>\n",
       "      <th>latitude</th>\n",
       "      <th>bedrooms_dup</th>\n",
       "    </tr>\n",
       "  </thead>\n",
       "  <tbody>\n",
       "    <tr>\n",
       "      <th>0</th>\n",
       "      <td>1.0</td>\n",
       "      <td>1</td>\n",
       "      <td>-73.9539</td>\n",
       "      <td>40.7108</td>\n",
       "      <td>1</td>\n",
       "    </tr>\n",
       "    <tr>\n",
       "      <th>1</th>\n",
       "      <td>1.0</td>\n",
       "      <td>2</td>\n",
       "      <td>-73.9722</td>\n",
       "      <td>40.7513</td>\n",
       "      <td>2</td>\n",
       "    </tr>\n",
       "    <tr>\n",
       "      <th>2</th>\n",
       "      <td>1.0</td>\n",
       "      <td>2</td>\n",
       "      <td>-73.9625</td>\n",
       "      <td>40.7575</td>\n",
       "      <td>2</td>\n",
       "    </tr>\n",
       "    <tr>\n",
       "      <th>3</th>\n",
       "      <td>1.5</td>\n",
       "      <td>3</td>\n",
       "      <td>-73.9425</td>\n",
       "      <td>40.7145</td>\n",
       "      <td>3</td>\n",
       "    </tr>\n",
       "    <tr>\n",
       "      <th>4</th>\n",
       "      <td>1.0</td>\n",
       "      <td>0</td>\n",
       "      <td>-73.9743</td>\n",
       "      <td>40.7439</td>\n",
       "      <td>0</td>\n",
       "    </tr>\n",
       "  </tbody>\n",
       "</table>\n",
       "</div>"
      ],
      "text/plain": [
       "   bathrooms  bedrooms  longitude  latitude  bedrooms_dup\n",
       "0        1.0         1   -73.9539   40.7108             1\n",
       "1        1.0         2   -73.9722   40.7513             2\n",
       "2        1.0         2   -73.9625   40.7575             2\n",
       "3        1.5         3   -73.9425   40.7145             3\n",
       "4        1.0         0   -73.9743   40.7439             0"
      ]
     },
     "execution_count": 17,
     "metadata": {},
     "output_type": "execute_result"
    }
   ],
   "source": [
    "X_dup = X.copy()\n",
    "X_dup['bedrooms_dup'] = X_dup['bedrooms']\n",
    "X_dup.head()"
   ]
  },
  {
   "cell_type": "code",
   "execution_count": 18,
   "metadata": {},
   "outputs": [
    {
     "name": "stdout",
     "output_type": "stream",
     "text": [
      "Baseline R^2 with no columns dropped: 0.86736\n",
      "\n",
      "Dropping column bathrooms: new R^2 is 0.81960 and difference from baseline is 0.04776\n",
      "Dropping column bedrooms: new R^2 is 0.86764 and difference from baseline is -0.00027\n",
      "Dropping column longitude: new R^2 is 0.73442 and difference from baseline is 0.13294\n",
      "Dropping column latitude: new R^2 is 0.74139 and difference from baseline is 0.12597\n",
      "Dropping column bedrooms_dup: new R^2 is 0.86763 and difference from baseline is -0.00026\n"
     ]
    }
   ],
   "source": [
    "drop_importances(X_dup, y)"
   ]
  },
  {
   "cell_type": "markdown",
   "metadata": {},
   "source": [
    "##### Breaking Correlation"
   ]
  },
  {
   "cell_type": "code",
   "execution_count": 19,
   "metadata": {},
   "outputs": [
    {
     "data": {
      "text/html": [
       "<div>\n",
       "<style scoped>\n",
       "    .dataframe tbody tr th:only-of-type {\n",
       "        vertical-align: middle;\n",
       "    }\n",
       "\n",
       "    .dataframe tbody tr th {\n",
       "        vertical-align: top;\n",
       "    }\n",
       "\n",
       "    .dataframe thead th {\n",
       "        text-align: right;\n",
       "    }\n",
       "</style>\n",
       "<table border=\"1\" class=\"dataframe\">\n",
       "  <thead>\n",
       "    <tr style=\"text-align: right;\">\n",
       "      <th></th>\n",
       "      <th>bathrooms</th>\n",
       "      <th>bedrooms</th>\n",
       "      <th>longitude</th>\n",
       "      <th>latitude</th>\n",
       "      <th>bedrooms_dup</th>\n",
       "    </tr>\n",
       "  </thead>\n",
       "  <tbody>\n",
       "    <tr>\n",
       "      <th>0</th>\n",
       "      <td>1.0</td>\n",
       "      <td>1</td>\n",
       "      <td>-73.9539</td>\n",
       "      <td>40.7108</td>\n",
       "      <td>0.345749</td>\n",
       "    </tr>\n",
       "    <tr>\n",
       "      <th>1</th>\n",
       "      <td>1.0</td>\n",
       "      <td>2</td>\n",
       "      <td>-73.9722</td>\n",
       "      <td>40.7513</td>\n",
       "      <td>0.071621</td>\n",
       "    </tr>\n",
       "    <tr>\n",
       "      <th>2</th>\n",
       "      <td>1.0</td>\n",
       "      <td>2</td>\n",
       "      <td>-73.9625</td>\n",
       "      <td>40.7575</td>\n",
       "      <td>-1.120600</td>\n",
       "    </tr>\n",
       "    <tr>\n",
       "      <th>3</th>\n",
       "      <td>1.5</td>\n",
       "      <td>3</td>\n",
       "      <td>-73.9425</td>\n",
       "      <td>40.7145</td>\n",
       "      <td>0.181336</td>\n",
       "    </tr>\n",
       "    <tr>\n",
       "      <th>4</th>\n",
       "      <td>1.0</td>\n",
       "      <td>0</td>\n",
       "      <td>-73.9743</td>\n",
       "      <td>40.7439</td>\n",
       "      <td>-1.838170</td>\n",
       "    </tr>\n",
       "  </tbody>\n",
       "</table>\n",
       "</div>"
      ],
      "text/plain": [
       "   bathrooms  bedrooms  longitude  latitude  bedrooms_dup\n",
       "0        1.0         1   -73.9539   40.7108      0.345749\n",
       "1        1.0         2   -73.9722   40.7513      0.071621\n",
       "2        1.0         2   -73.9625   40.7575     -1.120600\n",
       "3        1.5         3   -73.9425   40.7145      0.181336\n",
       "4        1.0         0   -73.9743   40.7439     -1.838170"
      ]
     },
     "execution_count": 19,
     "metadata": {},
     "output_type": "execute_result"
    }
   ],
   "source": [
    "noise = np.random.normal(0, 2, X_dup.shape[0])\n",
    "\n",
    "X_dup['bedrooms_dup'] = X_dup['bedrooms'] + noise\n",
    "X_dup.head()"
   ]
  },
  {
   "cell_type": "code",
   "execution_count": 20,
   "metadata": {},
   "outputs": [
    {
     "name": "stdout",
     "output_type": "stream",
     "text": [
      "Baseline R^2 with no columns dropped: 0.84696\n",
      "\n",
      "Dropping column bathrooms: new R^2 is 0.78782 and difference from baseline is 0.05914\n",
      "Dropping column bedrooms: new R^2 is 0.72190 and difference from baseline is 0.12505\n",
      "Dropping column longitude: new R^2 is 0.68010 and difference from baseline is 0.16686\n",
      "Dropping column latitude: new R^2 is 0.68319 and difference from baseline is 0.16377\n",
      "Dropping column bedrooms_dup: new R^2 is 0.86763 and difference from baseline is -0.02067\n"
     ]
    }
   ],
   "source": [
    "drop_importances(X_dup, y)"
   ]
  },
  {
   "cell_type": "code",
   "execution_count": null,
   "metadata": {},
   "outputs": [],
   "source": []
  }
 ],
 "metadata": {
  "colab": {
   "collapsed_sections": [],
   "name": "new_initial_model.ipynb",
   "provenance": []
  },
  "kernelspec": {
   "display_name": "Python 3 (ipykernel)",
   "language": "python",
   "name": "python3"
  },
  "language_info": {
   "codemirror_mode": {
    "name": "ipython",
    "version": 3
   },
   "file_extension": ".py",
   "mimetype": "text/x-python",
   "name": "python",
   "nbconvert_exporter": "python",
   "pygments_lexer": "ipython3",
   "version": "3.9.13"
  }
 },
 "nbformat": 4,
 "nbformat_minor": 4
}
