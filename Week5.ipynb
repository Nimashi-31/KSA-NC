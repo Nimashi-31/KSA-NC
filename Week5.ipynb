{
 "cells": [
  {
   "cell_type": "markdown",
   "id": "73cd47ce-01e9-470f-b618-f723695a9e76",
   "metadata": {},
   "source": [
    "## Practice Lab 2: Decision tree from scratch (well, we hope!)"
   ]
  },
  {
   "cell_type": "markdown",
   "id": "776c42dc-7a82-466b-99ba-e7797f69cab2",
   "metadata": {},
   "source": [
    "### Part 1\n",
    "- create random list of 5 integers\n",
    " - create a function that will find the split values by\n",
    "     - sorting the list from lowest to highest value\n",
    "     - finding the midpoint for each consecutive pair of values\n",
    "     - returning midpoints as a list\n",
    " - create new random list of 5 integers and test your split values function "
   ]
  },
  {
   "cell_type": "markdown",
   "id": "cd9b9dd9-3a96-4b3b-8ed3-218e7eb0c782",
   "metadata": {},
   "source": [
    "> wherever you see `list` you can always substitute with `ndarray` if more appropriate"
   ]
  },
  {
   "cell_type": "code",
   "execution_count": 5,
   "id": "f4e779eb-20d5-47c9-af8f-ca031a74ec26",
   "metadata": {
    "tags": []
   },
   "outputs": [
    {
     "data": {
      "text/plain": [
       "array([ 5, 35, 31,  7, 45], dtype=int64)"
      ]
     },
     "execution_count": 5,
     "metadata": {},
     "output_type": "execute_result"
    }
   ],
   "source": [
    "import numpy as np\n",
    "from numpy.random import default_rng\n",
    "\n",
    "rnd_list = default_rng(123)\n",
    "int_list = rnd_list.integers(low=5, high=50, size=5)\n",
    "int_list"
   ]
  },
  {
   "cell_type": "code",
   "execution_count": 6,
   "id": "c5e480d9-6a45-470e-a2cf-39628b2ae16b",
   "metadata": {
    "tags": []
   },
   "outputs": [
    {
     "data": {
      "text/plain": [
       "[6.0, 19.0, 33.0, 40.0]"
      ]
     },
     "execution_count": 6,
     "metadata": {},
     "output_type": "execute_result"
    }
   ],
   "source": [
    "def splits(x):\n",
    "    split_ponit_list = []\n",
    "    x_sorted = sorted(x)\n",
    "    for i in range(len(x)-1):\n",
    "        mid_point = (x_sorted[i]+x_sorted[i+1])/2\n",
    "        split_ponit_list.append(mid_point)\n",
    "    return split_ponit_list\n",
    "                      \n",
    "splits(int_list)         "
   ]
  },
  {
   "cell_type": "markdown",
   "id": "5c0354e0-02a3-4ba4-8e7f-4a54bd68f852",
   "metadata": {},
   "source": [
    "### Part 2\n",
    " - create random array of integers in shape (5, 3)\n",
    " - create a function that iterates over the columns and calculates the split points for each column\n",
    " - return as a dictionary with column name as key and list of split points as value\n",
    " - verify by hand that you are getting the correct split points"
   ]
  },
  {
   "cell_type": "code",
   "execution_count": 7,
   "id": "f5fd98f2-7a61-41ba-a673-3107c07bcb17",
   "metadata": {
    "tags": []
   },
   "outputs": [
    {
     "data": {
      "text/plain": [
       "array([[25, 29, 22],\n",
       "       [36, 21, 38],\n",
       "       [82, 47, 92],\n",
       "       [47, 31, 79],\n",
       "       [82, 86, 89]], dtype=int64)"
      ]
     },
     "execution_count": 7,
     "metadata": {},
     "output_type": "execute_result"
    }
   ],
   "source": [
    "int_twoDlist = rnd_list.integers(low=5, high=100, size=(5,3))\n",
    "int_twoDlist "
   ]
  },
  {
   "cell_type": "code",
   "execution_count": 8,
   "id": "f0c3e721-fe49-4e3d-b240-9014dc8510d6",
   "metadata": {
    "tags": []
   },
   "outputs": [],
   "source": [
    "def splits_per_col(data):\n",
    "    col_split_pts = {}\n",
    "    ncols = data.shape[1]\n",
    "    for c in range(ncols):\n",
    "        split_pts = splits(data[:,c])\n",
    "        col_split_pts['col_'+ str(c)] = split_pts\n",
    "    return col_split_pts"
   ]
  },
  {
   "cell_type": "code",
   "execution_count": 9,
   "id": "7349fccc-4ad7-4f56-95bc-35925b86cd47",
   "metadata": {
    "tags": []
   },
   "outputs": [
    {
     "data": {
      "text/plain": [
       "{'col_0': [30.5, 41.5, 64.5, 82.0],\n",
       " 'col_1': [25.0, 30.0, 39.0, 66.5],\n",
       " 'col_2': [30.0, 58.5, 84.0, 90.5]}"
      ]
     },
     "execution_count": 9,
     "metadata": {},
     "output_type": "execute_result"
    }
   ],
   "source": [
    "splits_per_col(int_twoDlist)"
   ]
  },
  {
   "cell_type": "markdown",
   "id": "24b3bcd7-a4ad-4623-8c7e-574c202272a9",
   "metadata": {
    "tags": []
   },
   "source": [
    "### Part 3\n",
    " - create random array of integers in shape (5, 2)\n",
    " - use the first column as feature data X and the second column as regression target y\n",
    " - create a function that takes in this array and\n",
    "     - calculates the MAE of the root node\n",
    "     - calculates the split points\n",
    "     - for each split point\n",
    "         - split the data into two parts\n",
    "         - calculates the weighted MAE after the split\n",
    "     - returns the split point (and the new MAE) that reduces the MAE of the root node the most\n",
    "     \n",
    "> Note: this function could use other funtions that perform the individual steps"
   ]
  },
  {
   "cell_type": "code",
   "execution_count": 10,
   "id": "877b9401-3544-4222-a0f9-9170dec03c01",
   "metadata": {
    "tags": []
   },
   "outputs": [
    {
     "data": {
      "text/plain": [
       "array([[ 7, 53],\n",
       "       [30, 28],\n",
       "       [27, 83],\n",
       "       [80, 25],\n",
       "       [43, 75]], dtype=int64)"
      ]
     },
     "execution_count": 10,
     "metadata": {},
     "output_type": "execute_result"
    }
   ],
   "source": [
    "int_twoDlist = rnd_list.integers(low=5, high=100, size=(5,2))\n",
    "int_twoDlist"
   ]
  },
  {
   "cell_type": "code",
   "execution_count": 11,
   "id": "e32074a8-92b5-4edd-9745-5b1499b0efb9",
   "metadata": {
    "tags": []
   },
   "outputs": [],
   "source": [
    "def split_data(x, y, split_pt):\n",
    "    mask = x>split_pt\n",
    "    anti_mask = x< split_pt\n",
    "    x_true = x[mask]\n",
    "    y_true = y[mask]\n",
    "    x_false = x[anti_mask]\n",
    "    y_false = y[anti_mask]\n",
    "    return x_true, y_true, x_false, y_false"
   ]
  },
  {
   "cell_type": "code",
   "execution_count": 16,
   "id": "9dc53574-5a0d-440b-800a-6436d78a45e0",
   "metadata": {
    "tags": []
   },
   "outputs": [],
   "source": [
    "x_true, y_true, x_false, y_false = split_data(int_twoDlist[:,0], int_twoDlist[:, 1],70)"
   ]
  },
  {
   "cell_type": "code",
   "execution_count": 19,
   "id": "925f5e97-e446-4f7a-aa2c-72bca3e42f92",
   "metadata": {
    "tags": []
   },
   "outputs": [],
   "source": [
    "def MAE(y, y_true, y_false):\n",
    "    y_true_hat = np.mean(y_true)\n",
    "    y_false_hat = np.mean(y_false)\n",
    "    y_hat= np.mean(y)\n",
    "    \n",
    "    old_mae = np.mean(np.absolute(y-y_hat))\n",
    "    new_mae = len(y_true)/len(y)*np.mean(np.absolute(y_true-y_true_hat)) +\\\n",
    "              len(y_false)/len(y)*np.mean(np.absolute(y_false-y_false_hat))\n",
    "    return old_mae, new_mae"
   ]
  },
  {
   "cell_type": "code",
   "execution_count": 20,
   "id": "34ebe83f-6db0-43ec-987b-c4f3ffdaa55e",
   "metadata": {},
   "outputs": [
    {
     "data": {
      "text/plain": [
       "(21.04, 15.4)"
      ]
     },
     "execution_count": 20,
     "metadata": {},
     "output_type": "execute_result"
    }
   ],
   "source": [
    "MAE(int_twoDlist[:,1],y_true,y_false)"
   ]
  },
  {
   "cell_type": "markdown",
   "id": "cf21274f-99ac-4eeb-a47e-0c3db31d3d61",
   "metadata": {
    "tags": []
   },
   "source": [
    "### Part 4 (Optional)\n",
    " - Modify **Part 3** code so that it can handle more than 1 feature"
   ]
  },
  {
   "cell_type": "code",
   "execution_count": 25,
   "id": "dad57a39-52c3-4aaf-b2d8-3df0e397df93",
   "metadata": {},
   "outputs": [],
   "source": [
    "def get_best_split(data):\n",
    "    x = data[:,0]\n",
    "    y = data[:,1]\n",
    "    split_pts = splits(x)\n",
    "    results = {}\n",
    "    for point in split_pts:\n",
    "        x_true, y_true, x_false, y_false = split_data(x, y, point)\n",
    "        errors = MAE(y, y_true, y_false)\n",
    "        results[point] = errors\n",
    "    best_point = min(results, key=results.get)\n",
    "    return results, best_point"
   ]
  },
  {
   "cell_type": "code",
   "execution_count": 26,
   "id": "1094ce98-2a62-41b0-a1c5-395bf3af8934",
   "metadata": {
    "tags": []
   },
   "outputs": [
    {
     "data": {
      "text/plain": [
       "({17.0: (21.04, 21.0),\n",
       "  28.5: (21.04, 18.93333333333333),\n",
       "  36.5: (21.04, 21.333333333333336),\n",
       "  61.5: (21.04, 15.4)},\n",
       " 61.5)"
      ]
     },
     "execution_count": 26,
     "metadata": {},
     "output_type": "execute_result"
    }
   ],
   "source": [
    "get_best_split(int_twoDlist)"
   ]
  },
  {
   "cell_type": "code",
   "execution_count": null,
   "id": "6ddf1471-7647-4f93-863d-eccbd77f8f8f",
   "metadata": {},
   "outputs": [],
   "source": []
  }
 ],
 "metadata": {
  "kernelspec": {
   "display_name": "Python 3 (ipykernel)",
   "language": "python",
   "name": "python3"
  },
  "language_info": {
   "codemirror_mode": {
    "name": "ipython",
    "version": 3
   },
   "file_extension": ".py",
   "mimetype": "text/x-python",
   "name": "python",
   "nbconvert_exporter": "python",
   "pygments_lexer": "ipython3",
   "version": "3.11.4"
  }
 },
 "nbformat": 4,
 "nbformat_minor": 5
}
