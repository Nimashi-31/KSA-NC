{
 "cells": [
  {
   "cell_type": "markdown",
   "id": "271b96f9-3021-486c-aad2-dcfdd12ade28",
   "metadata": {},
   "source": [
    "# Practice Lab 4: Metrics"
   ]
  },
  {
   "cell_type": "markdown",
   "id": "a4a3d2d7-1684-4e29-9dd9-53de5b4c5219",
   "metadata": {},
   "source": [
    "## Regression\n",
    "\n",
    "1. Create functions to calculate:\n",
    "    - mean squared error\n",
    "    - mean absolute error\n",
    "    - $R^2$\n",
    "2. Use the corresponding Scikit-Learn functions to verify your functions produce the same answers"
   ]
  },
  {
   "cell_type": "code",
   "execution_count": 11,
   "id": "5c05982f-b68c-4a70-a80e-9411ec45c916",
   "metadata": {},
   "outputs": [],
   "source": [
    "import numpy as np\n",
    "from numpy.random import default_rng\n",
    "import matplotlib.pyplot as plt"
   ]
  },
  {
   "cell_type": "markdown",
   "id": "13f2816d-a561-404b-8e7b-81549db76a51",
   "metadata": {},
   "source": [
    "#### Mean squared error"
   ]
  },
  {
   "cell_type": "code",
   "execution_count": 3,
   "id": "8d9b82d4-bfe2-47a2-be7c-efb08b89b4d7",
   "metadata": {},
   "outputs": [],
   "source": [
    "np.random.seed(234)    #seed will only work in chunk\n",
    "n1 = np.random.randint(2,20,10)"
   ]
  },
  {
   "cell_type": "code",
   "execution_count": 5,
   "id": "fd2ebee0-ecaa-4f72-9972-48f67de09c6c",
   "metadata": {},
   "outputs": [],
   "source": [
    "rng = np.random.default_rng(23)"
   ]
  },
  {
   "cell_type": "code",
   "execution_count": 7,
   "id": "5165b079-b035-4018-ac2d-f327761c72b3",
   "metadata": {},
   "outputs": [],
   "source": [
    "n2 = rng.uniform(2,20,10) "
   ]
  },
  {
   "cell_type": "code",
   "execution_count": 12,
   "id": "0d467d5a-b8f9-48ac-88ac-d1c34ad0e548",
   "metadata": {},
   "outputs": [
    {
     "data": {
      "text/plain": [
       "(array([2., 2., 0., 0., 1., 0., 0., 3., 1., 1.]),\n",
       " array([ 4.0467449 ,  5.3782932 ,  6.7098415 ,  8.0413898 ,  9.3729381 ,\n",
       "        10.7044864 , 12.03603471, 13.36758301, 14.69913131, 16.03067961,\n",
       "        17.36222791]),\n",
       " <BarContainer object of 10 artists>)"
      ]
     },
     "execution_count": 12,
     "metadata": {},
     "output_type": "execute_result"
    },
    {
     "data": {
      "image/png": "[encoded data removed]",
      "text/plain": [
       "<Figure size 640x480 with 1 Axes>"
      ]
     },
     "metadata": {},
     "output_type": "display_data"
    }
   ],
   "source": [
    "plt.hist(n2)"
   ]
  },
  {
   "cell_type": "code",
   "execution_count": 13,
   "id": "24e266a5-23a8-46c8-9e66-e92f763d4a8f",
   "metadata": {},
   "outputs": [
    {
     "data": {
      "text/plain": [
       "array([10,  6,  3,  5,  9, 18,  5,  4, 10,  9])"
      ]
     },
     "execution_count": 13,
     "metadata": {},
     "output_type": "execute_result"
    }
   ],
   "source": [
    "n1"
   ]
  },
  {
   "cell_type": "code",
   "execution_count": 14,
   "id": "bcd5d2a8-9719-49fa-9bb4-9453bc466cef",
   "metadata": {},
   "outputs": [],
   "source": [
    "rng =np.random.default_rng(132)\n",
    "y = rng.uniform(2,10,10)\n",
    "pred = rng.uniform(2,10,10)"
   ]
  },
  {
   "cell_type": "code",
   "execution_count": 15,
   "id": "199d5d7c-c1aa-427f-b67a-df8bde277872",
   "metadata": {},
   "outputs": [
    {
     "data": {
      "text/plain": [
       "array([3.1408106 , 8.43732672, 7.96147235, 9.05897251, 8.68815943,\n",
       "       6.87911926, 6.30547803, 9.52483339, 9.76141548, 4.32677502])"
      ]
     },
     "execution_count": 15,
     "metadata": {},
     "output_type": "execute_result"
    }
   ],
   "source": [
    "y"
   ]
  },
  {
   "cell_type": "code",
   "execution_count": 16,
   "id": "b9837bdd-8124-4d4a-b2c8-e521f4df739a",
   "metadata": {},
   "outputs": [
    {
     "data": {
      "text/plain": [
       "array([9.89437746, 9.73764787, 3.65330496, 9.89415802, 6.76870041,\n",
       "       3.63552864, 8.06963589, 3.63349031, 9.60661233, 2.04697148])"
      ]
     },
     "execution_count": 16,
     "metadata": {},
     "output_type": "execute_result"
    }
   ],
   "source": [
    "pred"
   ]
  },
  {
   "cell_type": "code",
   "execution_count": null,
   "id": "248f1613-e4b5-4ce2-a999-2cae4dbd625e",
   "metadata": {},
   "outputs": [],
   "source": [
    "#when the error is so small, we use mean squared error and when there are larger errors, mean absolute error is used."
   ]
  },
  {
   "cell_type": "code",
   "execution_count": 33,
   "id": "a094533c-6be0-4850-9ba3-b0eb7fbbbb99",
   "metadata": {},
   "outputs": [],
   "source": [
    "##defining the function to create mean squred error\n",
    "#error\n",
    "error = y - pred\n",
    "#squared\n",
    "squared_error = error**2\n",
    "#mean\n",
    "mse = np.mean(squared_error)"
   ]
  },
  {
   "cell_type": "code",
   "execution_count": 34,
   "id": "0d1f44fb-8df4-4f36-886a-3a98a0680389",
   "metadata": {},
   "outputs": [
    {
     "data": {
      "text/plain": [
       "array([-6.75356686, -1.30032115,  4.30816739, -0.8351855 ,  1.91945902,\n",
       "        3.24359062, -1.76415786,  5.89134308,  0.15480315,  2.27980354])"
      ]
     },
     "execution_count": 34,
     "metadata": {},
     "output_type": "execute_result"
    }
   ],
   "source": [
    "error"
   ]
  },
  {
   "cell_type": "code",
   "execution_count": 35,
   "id": "0709bc56-c1a0-4f88-a48f-a3e4f11ceb16",
   "metadata": {},
   "outputs": [
    {
     "data": {
      "text/plain": [
       "array([4.56106653e+01, 1.69083508e+00, 1.85603062e+01, 6.97534827e-01,\n",
       "       3.68432294e+00, 1.05208801e+01, 3.11225295e+00, 3.47079232e+01,\n",
       "       2.39640158e-02, 5.19750419e+00])"
      ]
     },
     "execution_count": 35,
     "metadata": {},
     "output_type": "execute_result"
    }
   ],
   "source": [
    "squared_error"
   ]
  },
  {
   "cell_type": "code",
   "execution_count": 36,
   "id": "67044bae-fa1e-4522-90bf-c7b796108bf9",
   "metadata": {},
   "outputs": [
    {
     "data": {
      "text/plain": [
       "12.380618894719683"
      ]
     },
     "execution_count": 36,
     "metadata": {},
     "output_type": "execute_result"
    }
   ],
   "source": [
    "mse"
   ]
  },
  {
   "cell_type": "code",
   "execution_count": 40,
   "id": "0bc84963-5104-487f-8117-193411bdd2ef",
   "metadata": {},
   "outputs": [
    {
     "data": {
      "text/plain": [
       "12.380618894719683"
      ]
     },
     "execution_count": 40,
     "metadata": {},
     "output_type": "execute_result"
    }
   ],
   "source": [
    "mean_squared_error1= np.mean((y-pred)**2)\n",
    "mean_squared_error1"
   ]
  },
  {
   "cell_type": "code",
   "execution_count": 41,
   "id": "aee49085-102c-42df-8ea4-44ee7b417d29",
   "metadata": {},
   "outputs": [],
   "source": [
    "def mean_squared_error(actual,predicted):\n",
    "    error = actual-predicted\n",
    "    squared_error = error * error\n",
    "    mean_squared_error = squared_error.sum()/len(actual)\n",
    "\n",
    "    return mean_squared_error"
   ]
  },
  {
   "cell_type": "code",
   "execution_count": 42,
   "id": "3b5dc4c3-dbc8-47fb-8f5d-1f30f4e38e43",
   "metadata": {},
   "outputs": [
    {
     "data": {
      "text/plain": [
       "12.380618894719683"
      ]
     },
     "execution_count": 42,
     "metadata": {},
     "output_type": "execute_result"
    }
   ],
   "source": [
    "mean_squared_error(y,pred)"
   ]
  },
  {
   "cell_type": "code",
   "execution_count": 43,
   "id": "40633a6b-bb3b-4086-9eb6-7321c7e58c1c",
   "metadata": {},
   "outputs": [],
   "source": [
    "def MSE(y,pred):\n",
    "    return np.mean((y-pred)**2)"
   ]
  },
  {
   "cell_type": "code",
   "execution_count": 44,
   "id": "4e361661-e905-456e-8a15-677bdea94568",
   "metadata": {},
   "outputs": [
    {
     "data": {
      "text/plain": [
       "12.380618894719683"
      ]
     },
     "execution_count": 44,
     "metadata": {},
     "output_type": "execute_result"
    }
   ],
   "source": [
    "MSE(y,pred)"
   ]
  },
  {
   "cell_type": "markdown",
   "id": "7043e2b0-0759-4f3e-86de-1f3d481b779c",
   "metadata": {},
   "source": [
    "using sklearn library to find the metrics"
   ]
  },
  {
   "cell_type": "code",
   "execution_count": 64,
   "id": "1a716ae4-6825-4d2a-ab73-7cc51de03c4d",
   "metadata": {},
   "outputs": [],
   "source": [
    "#all the metrics such as error, squared error and mse are there here. you can use the functions straight away\n",
    "from sklearn.metrics import mean_absolute_error, mean_squared_error, r2_score, accuracy_score, precision_score, f1_score,recall_score"
   ]
  },
  {
   "cell_type": "code",
   "execution_count": 46,
   "id": "e3eee675-f7d2-4ec3-aa1a-4a217efcf288",
   "metadata": {},
   "outputs": [
    {
     "data": {
      "text/plain": [
       "12.380618894719683"
      ]
     },
     "execution_count": 46,
     "metadata": {},
     "output_type": "execute_result"
    }
   ],
   "source": [
    "mean_squared_error(y, pred)"
   ]
  },
  {
   "cell_type": "code",
   "execution_count": 47,
   "id": "21179f64-ddb0-429b-8395-b6a2fab0992b",
   "metadata": {},
   "outputs": [
    {
     "data": {
      "text/plain": [
       "2.8450398170533715"
      ]
     },
     "execution_count": 47,
     "metadata": {},
     "output_type": "execute_result"
    }
   ],
   "source": [
    "mean_absolute_error(y,pred)"
   ]
  },
  {
   "cell_type": "markdown",
   "id": "2f97e6a4-ba0f-4cb1-949a-aaa342a1c0bf",
   "metadata": {},
   "source": [
    "#### R2 score"
   ]
  },
  {
   "cell_type": "code",
   "execution_count": null,
   "id": "025f05c5-2b61-487f-b0e3-5353b1543e5b",
   "metadata": {},
   "outputs": [],
   "source": [
    "#in rss y bar is avearge y"
   ]
  },
  {
   "cell_type": "code",
   "execution_count": 51,
   "id": "42e04101-49ad-4620-a077-cfc3cb239c48",
   "metadata": {},
   "outputs": [],
   "source": [
    "def r2(y_true, y_pred):\n",
    "\n",
    "  #numerator\n",
    "    numerator = len(y_true) * MSE(y_true, y_pred)\n",
    "\n",
    "    #denominator\n",
    "    y_avg = np.mean(y_true)\n",
    "    diff = y_true - y_avg\n",
    "    square = diff**2\n",
    "    sum_of_squares = np.sum(square)\n",
    "    denominator = sum_of_squares\n",
    "\n",
    "    r2 = 1 - (numerator/denominator)\n",
    "    return r2  "
   ]
  },
  {
   "cell_type": "code",
   "execution_count": 52,
   "id": "0aa34651-9f40-49f8-9a95-0ca95008853e",
   "metadata": {},
   "outputs": [
    {
     "data": {
      "text/plain": [
       "-1.7544295843985833"
      ]
     },
     "execution_count": 52,
     "metadata": {},
     "output_type": "execute_result"
    }
   ],
   "source": [
    "r2(y,pred)"
   ]
  },
  {
   "cell_type": "code",
   "execution_count": 54,
   "id": "8fbf66a5-3bca-4433-9c08-574fa2dd5f4b",
   "metadata": {},
   "outputs": [
    {
     "data": {
      "text/plain": [
       "-1.7544295843985833"
      ]
     },
     "execution_count": 54,
     "metadata": {},
     "output_type": "execute_result"
    }
   ],
   "source": [
    "r2_score(y,pred)"
   ]
  },
  {
   "cell_type": "code",
   "execution_count": null,
   "id": "53f5f8e0-442e-4870-ab41-cb7a06375c9c",
   "metadata": {},
   "outputs": [],
   "source": []
  },
  {
   "cell_type": "code",
   "execution_count": null,
   "id": "68fe400d-6d59-45f2-823e-e6b908c6a6ba",
   "metadata": {},
   "outputs": [],
   "source": []
  },
  {
   "cell_type": "markdown",
   "id": "d2676646-217e-48d0-a39c-a345a1ee8d81",
   "metadata": {},
   "source": [
    "## Classification\n",
    "\n",
    "1. Create functions to calculate:\n",
    "    - accuracy\n",
    "    - precision\n",
    "    - recall\n",
    "    - F1-score\n",
    "2. Use the corresponding Scikit-Learn functions to verify your functions produce the same answers"
   ]
  },
  {
   "cell_type": "code",
   "execution_count": null,
   "id": "569779e5-9027-43bb-a0c6-bb906dc95a7e",
   "metadata": {},
   "outputs": [],
   "source": [
    "# in the accuracy, you only care about TP & TN in the confusion metrix"
   ]
  },
  {
   "cell_type": "code",
   "execution_count": null,
   "id": "b5987244-8495-4d8e-bc21-63071ccfc8a4",
   "metadata": {},
   "outputs": [],
   "source": [
    "# in the precision, you only care about TP"
   ]
  },
  {
   "cell_type": "code",
   "execution_count": 58,
   "id": "662ba16f-f21a-433d-aeff-d5a667b85244",
   "metadata": {},
   "outputs": [],
   "source": [
    "#creating the data\n",
    "y = np.array([0,0,0,0,1,1,1,1])\n",
    "pred = np.array([1,0,1,1,1,1,1,0])"
   ]
  },
  {
   "cell_type": "code",
   "execution_count": 59,
   "id": "a59803fc-6480-4c45-b716-49bc048367b8",
   "metadata": {},
   "outputs": [
    {
     "data": {
      "text/plain": [
       "0.5"
      ]
     },
     "execution_count": 59,
     "metadata": {},
     "output_type": "execute_result"
    }
   ],
   "source": [
    "accuracy_score(y, pred)"
   ]
  },
  {
   "cell_type": "code",
   "execution_count": 61,
   "id": "a2a1dd73-ee5b-4461-b814-da9b43a69af7",
   "metadata": {},
   "outputs": [
    {
     "data": {
      "text/plain": [
       "0.5"
      ]
     },
     "execution_count": 61,
     "metadata": {},
     "output_type": "execute_result"
    }
   ],
   "source": [
    "precision_score(y,pred)"
   ]
  },
  {
   "cell_type": "code",
   "execution_count": 62,
   "id": "22a15180-2fba-4cb5-9c0f-3375e8870d4e",
   "metadata": {},
   "outputs": [
    {
     "data": {
      "text/plain": [
       "0.6"
      ]
     },
     "execution_count": 62,
     "metadata": {},
     "output_type": "execute_result"
    }
   ],
   "source": [
    "f1_score(y,pred)"
   ]
  },
  {
   "cell_type": "code",
   "execution_count": 65,
   "id": "178a8eed-84a3-4334-9f27-15e580f017d8",
   "metadata": {},
   "outputs": [
    {
     "data": {
      "text/plain": [
       "0.75"
      ]
     },
     "execution_count": 65,
     "metadata": {},
     "output_type": "execute_result"
    }
   ],
   "source": [
    "recall_score(y,pred)"
   ]
  },
  {
   "cell_type": "code",
   "execution_count": null,
   "id": "6a71ba3c-d05f-40a2-b2c0-31aa95ab76e4",
   "metadata": {},
   "outputs": [],
   "source": []
  }
 ],
 "metadata": {
  "kernelspec": {
   "display_name": "Python 3 (ipykernel)",
   "language": "python",
   "name": "python3"
  },
  "language_info": {
   "codemirror_mode": {
    "name": "ipython",
    "version": 3
   },
   "file_extension": ".py",
   "mimetype": "text/x-python",
   "name": "python",
   "nbconvert_exporter": "python",
   "pygments_lexer": "ipython3",
   "version": "3.11.7"
  }
 },
 "nbformat": 4,
 "nbformat_minor": 5
}
